{
  "cells": [
    {
      "cell_type": "markdown",
      "metadata": {
        "id": "S-mZtmvmJ6Rt"
      },
      "source": [
        "# Test 10"
      ]
    },
    {
      "cell_type": "code",
      "execution_count": null,
      "metadata": {
        "id": "CR08Ftweh4Ii"
      },
      "outputs": [],
      "source": [
        "# first please download your kaggle.json file from your kaggle's account and upload it in colab's local, then run this cell for preparing downloading pima_diabets dataset\n",
        "\n",
        "!ls -lha kaggle.json\n",
        "!pip install -q kaggle\n",
        "!mkdir -p ~/.kaggle\n",
        "!cp kaggle.json ~/.kaggle/\n",
        "!chmod 600 ~/.kaggle/kaggle.json\n"
      ]
    },
    {
      "cell_type": "code",
      "execution_count": null,
      "metadata": {
        "id": "BvXEnYv76oB5"
      },
      "outputs": [],
      "source": [
        "!pip install pyod\n",
        "!pip install beautifultable\n",
        "!pip install xgboost\n",
        "!pip install termcolor\n",
        "!pip install sklearn_som\n",
        "!pip install suod  "
      ]
    },
    {
      "cell_type": "code",
      "execution_count": null,
      "metadata": {
        "id": "n06laOx6vvMf"
      },
      "outputs": [],
      "source": [
        "from http_preprocessing_2 import http_preprocessing_2\n",
        "from pima_diabets_preprocessing_2 import pima_diabets_preprocessing_2\n",
        "from smtp_preprocessing_2 import smtp_preprocessing_2\n",
        "from wine_preprocessing_2 import wine_preprocessing_2\n",
        "from breast_cancer_preprocessing_2 import breast_cancer_preprocessing_2\n",
        "from credit_card_fraud_preprocessing_2 import credit_card_fraud_preprocessing_2\n",
        "from ugr16_preprocessing_2 import UGR16_preprocessing_2\n",
        "from pen_global import pen_global\n",
        "\n",
        "from models import model\n",
        "from deep_models import deep_model\n",
        "\n",
        "from beth import beth\n",
        "from unsw import UNSW\n"
      ]
    },
    {
      "cell_type": "code",
      "execution_count": null,
      "metadata": {
        "id": "3JdDTKgSvvMf"
      },
      "outputs": [],
      "source": [
        "# inputs of preprocessing fanctions: encoder_numeric,encoder_categoric,scaler_name\n",
        "\n",
        "# firt input=encoder_numeric: is the encoder's type for numerical featurs that it can be None or OrdinalEncoder or LabelEncoder\n",
        "# second input=encoder_categoric: is the encoder's type for categorical featurs that it can be OrdinalEncoder or LabelEncoder or OneHotEncoder\n",
        "# third input=scaler_name : which can be one of StandardScaler, RobustScaler, MinMaxScaler\n",
        "\n",
        "\n",
        "\n",
        "# model inputes:\n",
        "\n",
        "#dataset_name,dataframe,name_target, n,contamination,number_of_unique,percentage_values,list_of_models\n",
        "\n",
        "# number_of_unique: if unique number of each feature was less than number_of_unique (for example 2) that feature( or column) is droped just in XBOS model\n",
        "#percentage_values: it can be True or False. this input is for showing confusion matrix's plot in percentage or not\n"
      ]
    },
    {
      "cell_type": "code",
      "execution_count": null,
      "metadata": {
        "id": "HW1zkUNhLZTG"
      },
      "outputs": [],
      "source": [
        "#totall\n",
        "\n",
        "list_of_models = ['HBOS_pyod','KNN_pyod', 'IForest_pyod', 'XBOS', 'KNN_sklearn', 'XGB',\"HBOS\",\"CBLOF_pyod\"\n",
        "                  'LOF_pyod','SOM', 'LOF_sklearn','OneClassSVM','MCD_pyod','OCSVM_pyod','SGDOneClassSVM']"
      ]
    },
    {
      "cell_type": "code",
      "execution_count": null,
      "metadata": {
        "id": "eKmIaTTC6oB6"
      },
      "outputs": [],
      "source": [
        "df ,contamination =http_preprocessing_2(None,None, None)\n",
        "\n",
        "contamination = 0.07\n",
        "\n",
        "list_of_models = ['MCD_pyod','OCSVM_pyod','SGDOneClassSVM']\n",
        "\n",
        "result = model('http',df,'binary_target',100, contamination,None,True,list_of_models)"
      ]
    },
    {
      "cell_type": "code",
      "execution_count": null,
      "metadata": {
        "id": "6D1BebIG6oB6"
      },
      "outputs": [],
      "source": [
        "#dataset_dir = '/content/home/2/'\n",
        "#dataset_kaggle_path = \"uciml/pima-indians-diabetes-database\"\n",
        "df,contamination = pima_diabets_preprocessing_2(None, None,None,'uciml/pima-indians-diabetes-database','/content/home/2/') \n",
        "\n",
        "list_of_models = ['HBOS_pyod','KNN_pyod', 'IForest_pyod', 'XBOS', 'KNN_sklearn', 'XGB',\n",
        "                  'LOF_pyod','SOM', 'LOF_sklearn','OneClassSVM','MCD_pyod','OCSVM_pyod','SGDOneClassSVM']\n",
        "result = model('pima_diabets',df,'binary_target',100, contamination,None,True,list_of_models)\n"
      ]
    },
    {
      "cell_type": "code",
      "execution_count": null,
      "metadata": {
        "id": "VNkmYUBO6oB6"
      },
      "outputs": [],
      "source": [
        "df,contamination=smtp_preprocessing_2(None,None,None) \n",
        "\n",
        "list_of_models = ['HBOS_pyod','KNN_pyod', 'IForest_pyod', 'XBOS', 'KNN_sklearn', 'XGB',\n",
        "                  'LOF_pyod','SOM', 'LOF_sklearn','OneClassSVM','MCD_pyod','OCSVM_pyod','SGDOneClassSVM']\n",
        "result = model('smtp',df,'binary_target',1000, contamination,None,True,list_of_models)"
      ]
    },
    {
      "cell_type": "code",
      "execution_count": null,
      "metadata": {
        "id": "WqURKNWZ6oB7"
      },
      "outputs": [],
      "source": [
        "df ,contamination=wine_preprocessing_2('LabelEncoder','OrdinalEncoder','RobustScaler')\n",
        "\n",
        "list_of_models = ['HBOS_pyod','KNN_pyod', 'IForest_pyod', 'XBOS', 'KNN_sklearn', 'XGB',\n",
        "                  'LOF_pyod','SOM', 'LOF_sklearn','OneClassSVM','MCD_pyod','OCSVM_pyod','SGDOneClassSVM']\n",
        "result = model('wine',df,'binary_target',100, contamination,None,True,list_of_models)"
      ]
    },
    {
      "cell_type": "code",
      "execution_count": null,
      "metadata": {
        "id": "9RsiT72R6oB7"
      },
      "outputs": [],
      "source": [
        "df ,contamination = breast_cancer_preprocessing_2(None,'OrdinalEncoder','RobustScaler')\n",
        "\n",
        "list_of_models = ['HBOS_pyod','KNN_pyod', 'IForest_pyod', 'XBOS', 'KNN_sklearn', 'XGB',\n",
        "                  'LOF_pyod','SOM', 'LOF_sklearn','OneClassSVM','MCD_pyod','OCSVM_pyod','SGDOneClassSVM']\n",
        "result = model('breast_cancer',df,'binary_target',100, contamination,None,True,list_of_models)"
      ]
    },
    {
      "cell_type": "code",
      "execution_count": null,
      "metadata": {
        "id": "KcMSMbeC6oB7"
      },
      "outputs": [],
      "source": [
        "#dataset_dir = '/content/home/'\n",
        "#dataset_kaggle_path = \"mlg-ulb/creditcardfraud\"\n",
        "df,contamination = credit_card_fraud_preprocessing_2(None, None,'MinMaxScaler','mlg-ulb/creditcardfraud','/content/home/3/') \n",
        "\n",
        "list_of_models = ['HBOS_pyod','KNN_pyod', 'IForest_pyod', 'XBOS', 'KNN_sklearn', 'XGB',\n",
        "                  'LOF_pyod','SOM', 'LOF_sklearn','OneClassSVM','MCD_pyod','OCSVM_pyod','SGDOneClassSVM']\n",
        "result = model('credit_card_fraud',df,'binary_target',1000, contamination,None,True,list_of_models)\n"
      ]
    },
    {
      "cell_type": "code",
      "execution_count": null,
      "metadata": {
        "id": "wAAbSy6l67D5"
      },
      "outputs": [],
      "source": [
        "!wget https://nesg.ugr.es/nesg-ugr16/download/normal/march/week3/march_week3_csv.tar.gz\n",
        "\n",
        "!gzip -d march_week3_csv.tar.gz"
      ]
    },
    {
      "cell_type": "code",
      "execution_count": null,
      "metadata": {
        "id": "g-G7g0Nc67D6"
      },
      "outputs": [],
      "source": [
        "#OrdinalEncoder, LabelEncoder, \n",
        "#encoder_numeric,encoder_categoric\n",
        "#StandardScaler, RobustScaler, MinMaxScaler\n",
        "\n",
        "df ,contamination=UGR16_preprocessing_2(None,'OrdinalEncoder','StandardScaler',\n",
        "                                        '/content/march_week3_csv.tar',\"/content/uniq/march.week3.csv.uniqblacklistremoved\")\n",
        "\n",
        "# df_1 = df.iloc[:500,:]\n",
        "# df_1.shape\n",
        "\n",
        "list_of_models = ['HBOS_pyod','LOF_pyod','SOM', 'LOF_sklearn','OneClassSVM','MCD_pyod','OCSVM_pyod','SGDOneClassSVM']\n",
        "result = model('UGR16',df,'binary_target',1000, contamination,None,True,list_of_models)"
      ]
    },
    {
      "cell_type": "code",
      "execution_count": null,
      "metadata": {
        "id": "eJC0uxE6M4ph"
      },
      "outputs": [],
      "source": [
        "#OrdinalEncoder,LabelEncoder, OneHotEncoder\n",
        "#StandardScaler, RobustScaler, MinMaxScaler\n",
        "#number_of_unique = None\n",
        "#dataset_path\n",
        "\n",
        "\n",
        "\n",
        "\n",
        "\n",
        "df,contamination = pen_global(None, None,None,'/content/pen-global-unsupervised-ad.csv') \n",
        "\n",
        "list_of_models = ['HBOS_pyod','KNN_pyod', 'IForest_pyod', 'XBOS', 'KNN_sklearn', 'XGB',\n",
        "                  'LOF_pyod','SOM', 'LOF_sklearn','OneClassSVM','MCD_pyod','OCSVM_pyod','SGDOneClassSVM']\n",
        "\n",
        "result = model('pen_global',df,'binary_target',100, contamination,None,True,list_of_models)"
      ]
    },
    {
      "cell_type": "code",
      "execution_count": null,
      "metadata": {
        "id": "Z2_SeMCfL7nB"
      },
      "outputs": [],
      "source": [
        "#dataset_dir = '/content/home/'\n",
        "#dataset_kaggle_path = \"katehighnam/beth-dataset\"\n",
        "df,contamination = beth(None, None,None,'katehighnam/beth-dataset','/content/home/4/') \n",
        "\n",
        "# list_of_models = ['HBOS_pyod','KNN_pyod', 'IForest_pyod', 'XBOS', 'KNN_sklearn', 'XGB',\n",
        "#                   'LOF_pyod','SOM', 'LOF_sklearn','OneClassSVM','MCD_pyod','OCSVM_pyod','SGDOneClassSVM']\n",
        "\n",
        "list_of_models = ['HBOS']\n",
        "result = model('beth',df,'sus',100, contamination,None,True,list_of_models)"
      ]
    },
    {
      "cell_type": "code",
      "execution_count": null,
      "metadata": {
        "id": "RUMYxG3SBmL7"
      },
      "outputs": [],
      "source": [
        "#dataset_dir = '/content/home/'\n",
        "#dataset_kaggle_path = \"mrwellsdavid/unsw-nb15\"\n",
        "df,contamination = UNSW(None, None,None,'mrwellsdavid/unsw-nb15','/content/home/5/') \n",
        "\n",
        "list_of_models = ['HBOS_pyod','KNN_pyod', 'IForest_pyod', 'XBOS', 'KNN_sklearn','XGB',\n",
        "                  'LOF_pyod','SOM', 'LOF_sklearn','OneClassSVM','MCD_pyod','OCSVM_pyod','SGDOneClassSVM']\n",
        "\n",
        "\n",
        "result = model('UNSW',df,'label',100, contamination,None,True,list_of_models)"
      ]
    },
    {
      "cell_type": "markdown",
      "metadata": {
        "id": "Py8WHew5Nhvj"
      },
      "source": [
        "##AUC Plot"
      ]
    },
    {
      "cell_type": "code",
      "execution_count": null,
      "metadata": {
        "id": "FW-u8J6MNZzn"
      },
      "outputs": [],
      "source": [
        "from functions import auc_plot\n",
        "\n",
        "# list_of_models = ['HBOS_pyod','KNN_pyod', 'XBOS', 'KNN_sklearn','LOF_pyod', 'LOF_sklearn']\n",
        "list_of_models = ['HBOS_pyod','KNN_pyod', 'KNN_sklearn','LOF_pyod', 'LOF_sklearn']\n",
        "\n",
        "k = [5, 10, 20, 30, 40, 50, 60, 70,80, 90, 100]\n",
        "name_target = 'sus'\n",
        "contamination = 0.4\n",
        "number_of_unique = None\n",
        "\n",
        "auc_plot(df,name_target,contamination,number_of_unique,list_of_models,k)"
      ]
    },
    {
      "cell_type": "markdown",
      "metadata": {
        "id": "4u4yHaDAmcQF"
      },
      "source": [
        "##KNN model from pycaret library"
      ]
    },
    {
      "cell_type": "code",
      "execution_count": null,
      "metadata": {
        "id": "-VYQKMjzml9O"
      },
      "outputs": [],
      "source": [
        "# after running this cell please restart your notebook\n",
        "!pip install pycaret"
      ]
    },
    {
      "cell_type": "code",
      "execution_count": null,
      "metadata": {
        "id": "0kpfJxswm-6e"
      },
      "outputs": [],
      "source": [
        "import pandas as pd\n",
        "from sklearn.model_selection import train_test_split \n",
        "from pycaret.classification import *"
      ]
    },
    {
      "cell_type": "code",
      "execution_count": null,
      "metadata": {
        "id": "xxAx4Wfe8d8Z"
      },
      "outputs": [],
      "source": [
        "#pycaret library downgrade the version of sklearn, so we don't download http,smtp datasets directly\n",
        "#so we have to use dataframes that have been saved from preprocessing phase  "
      ]
    },
    {
      "cell_type": "markdown",
      "metadata": {
        "id": "bpWhQI-InW_E"
      },
      "source": [
        "###http"
      ]
    },
    {
      "cell_type": "code",
      "execution_count": null,
      "metadata": {
        "id": "wE87p-A-nZYD"
      },
      "outputs": [],
      "source": [
        "http= pd.read_csv('/content/http.csv')\n",
        "http"
      ]
    },
    {
      "cell_type": "code",
      "execution_count": null,
      "metadata": {
        "id": "eIjrxKkInZYD"
      },
      "outputs": [],
      "source": [
        "#name_target = 'target'\n",
        "seed = 120\n",
        "test_size = 0.3\n",
        "X_train, X_test = train_test_split(http, test_size=test_size, random_state=seed)\n",
        "\n",
        "exp_name = setup(data = X_train,  target = 'binary_target')\n",
        "knn = create_model('knn')\n",
        "\n",
        "pred_unseen = predict_model(knn, data = X_test)"
      ]
    },
    {
      "cell_type": "code",
      "execution_count": null,
      "metadata": {
        "id": "BxOf7Qc7sXJ2"
      },
      "outputs": [],
      "source": []
    },
    {
      "cell_type": "markdown",
      "metadata": {
        "id": "C-IJPiRwsTf3"
      },
      "source": [
        "###pima_diabets\n",
        "\n"
      ]
    },
    {
      "cell_type": "code",
      "execution_count": null,
      "metadata": {
        "id": "1AMbSwOZr_Ey"
      },
      "outputs": [],
      "source": [
        "import pandas as pd\n",
        "pima_diabets= pd.read_csv('/content/pima_diabets.csv')\n",
        "pima_diabets"
      ]
    },
    {
      "cell_type": "code",
      "execution_count": null,
      "metadata": {
        "id": "KCT_wkn6r_Ez"
      },
      "outputs": [],
      "source": [
        "seed = 120\n",
        "test_size = 0.3\n",
        "X_train, X_test = train_test_split(pima_diabets, test_size=test_size, random_state=seed)\n",
        "\n",
        "from pycaret.classification import *\n",
        "exp_name = setup(data = X_train,  target = 'binary_target')\n",
        "knn = create_model('knn')\n",
        "\n",
        "pred_unseen = predict_model(knn, data = X_test)"
      ]
    },
    {
      "cell_type": "markdown",
      "metadata": {
        "id": "lDKnR1t-oFcK"
      },
      "source": [
        "###smtp"
      ]
    },
    {
      "cell_type": "code",
      "execution_count": null,
      "metadata": {
        "id": "_puj-3eSoG9r"
      },
      "outputs": [],
      "source": [
        "smtp= pd.read_csv('/content/smtp.csv')\n",
        "smtp"
      ]
    },
    {
      "cell_type": "code",
      "execution_count": null,
      "metadata": {
        "id": "k2_J7ApNoVia"
      },
      "outputs": [],
      "source": [
        "seed = 120\n",
        "test_size = 0.3\n",
        "X_train, X_test = train_test_split(smtp, test_size=test_size, random_state=seed)\n",
        "\n",
        "exp_name = setup(data = X_train,  target = 'binary_target')\n",
        "knn = create_model('knn')\n",
        "\n",
        "pred_unseen = predict_model(knn, data = X_test)"
      ]
    },
    {
      "cell_type": "markdown",
      "metadata": {
        "id": "4J7eCttUoH7B"
      },
      "source": [
        "###wine"
      ]
    },
    {
      "cell_type": "code",
      "execution_count": null,
      "metadata": {
        "id": "NGeNbCaDoJ7y"
      },
      "outputs": [],
      "source": [
        "wine= pd.read_csv('/content/wine.csv')\n",
        "wine"
      ]
    },
    {
      "cell_type": "code",
      "execution_count": null,
      "metadata": {
        "id": "kqnPKcD8oYe5"
      },
      "outputs": [],
      "source": [
        "seed = 120\n",
        "test_size = 0.3\n",
        "X_train, X_test = train_test_split(wine, test_size=test_size, random_state=seed)\n",
        "\n",
        "exp_name = setup(data = X_train,  target = 'binary_target')\n",
        "knn = create_model('knn')\n",
        "\n",
        "pred_unseen = predict_model(knn, data = X_test)"
      ]
    },
    {
      "cell_type": "markdown",
      "metadata": {
        "id": "1L9ggY_coKT2"
      },
      "source": [
        "###breast_cancer"
      ]
    },
    {
      "cell_type": "code",
      "execution_count": null,
      "metadata": {
        "id": "oXH2dviMoPfD"
      },
      "outputs": [],
      "source": [
        "breast_cancer= pd.read_csv('/content/breast_cancer.csv')\n"
      ]
    },
    {
      "cell_type": "code",
      "execution_count": null,
      "metadata": {
        "id": "g4pQSOlUoapf"
      },
      "outputs": [],
      "source": [
        "seed = 120\n",
        "test_size = 0.3\n",
        "X_train, X_test = train_test_split(breast_cancer, test_size=test_size, random_state=seed)\n",
        "\n",
        "exp_name = setup(data = X_train,  target = 'binary_target')\n",
        "knn = create_model('knn')\n",
        "\n",
        "pred_unseen = predict_model(knn, data = X_test)"
      ]
    },
    {
      "cell_type": "markdown",
      "metadata": {
        "id": "BBr5SlXA0bya"
      },
      "source": [
        "### credit_card_fraud"
      ]
    },
    {
      "cell_type": "code",
      "execution_count": null,
      "metadata": {
        "id": "KDMavmCvzu4r"
      },
      "outputs": [],
      "source": []
    },
    {
      "cell_type": "code",
      "execution_count": null,
      "metadata": {
        "id": "80JfHrsU0i_p"
      },
      "outputs": [],
      "source": [
        "credit_card_fraud= pd.read_csv('/content/credit_card_fraud.csv')\n"
      ]
    },
    {
      "cell_type": "code",
      "execution_count": null,
      "metadata": {
        "id": "CrlQOXF90i_q"
      },
      "outputs": [],
      "source": [
        "seed = 120\n",
        "test_size = 0.3\n",
        "X_train, X_test = train_test_split(credit_card_fraud, test_size=test_size, random_state=seed)\n",
        "\n",
        "exp_name = setup(data = X_train,  target = 'binary_target')\n",
        "knn = create_model('knn')\n",
        "\n",
        "pred_unseen = predict_model(knn, data = X_test)"
      ]
    },
    {
      "cell_type": "code",
      "execution_count": null,
      "metadata": {
        "id": "rejmdkTNqh1J"
      },
      "outputs": [],
      "source": []
    },
    {
      "cell_type": "markdown",
      "metadata": {
        "id": "8FDri2gVXuAY"
      },
      "source": [
        "###UGR16"
      ]
    },
    {
      "cell_type": "code",
      "execution_count": null,
      "metadata": {
        "id": "H6w9T85mX1lP"
      },
      "outputs": [],
      "source": [
        "credit_card_fraud= pd.read_csv('/content/UGR16.csv')\n"
      ]
    },
    {
      "cell_type": "code",
      "execution_count": null,
      "metadata": {
        "id": "dADGeFVsX1lQ"
      },
      "outputs": [],
      "source": [
        "seed = 120\n",
        "test_size = 0.3\n",
        "X_train, X_test = train_test_split(credit_card_fraud, test_size=test_size, random_state=seed)\n",
        "\n",
        "exp_name = setup(data = X_train,  target = 'binary_target')\n",
        "knn = create_model('knn')\n",
        "\n",
        "pred_unseen = predict_model(knn, data = X_test)"
      ]
    },
    {
      "cell_type": "markdown",
      "metadata": {
        "id": "f-bgkYkaZ_sm"
      },
      "source": [
        "###Pen_global"
      ]
    },
    {
      "cell_type": "code",
      "execution_count": null,
      "metadata": {
        "id": "MIw-bv1MZw0w"
      },
      "outputs": [],
      "source": [
        "pen= pd.read_csv('/content/pen_global.csv')\n"
      ]
    },
    {
      "cell_type": "code",
      "execution_count": null,
      "metadata": {
        "id": "OMJYJnP-Zuck"
      },
      "outputs": [],
      "source": [
        "seed = 120\n",
        "test_size = 0.3\n",
        "X_train, X_test = train_test_split(pen, test_size=test_size, random_state=seed)\n",
        "\n",
        "exp_name = setup(data = X_train,  target = 'binary_target')\n",
        "knn = create_model('knn')\n",
        "\n",
        "pred_unseen = predict_model(knn, data = X_test)"
      ]
    },
    {
      "cell_type": "code",
      "execution_count": null,
      "metadata": {
        "id": "XO0zDN9lZun_"
      },
      "outputs": [],
      "source": []
    },
    {
      "cell_type": "markdown",
      "metadata": {
        "id": "KuVVpSUjR5Oq"
      },
      "source": [
        "##Beth"
      ]
    },
    {
      "cell_type": "code",
      "execution_count": null,
      "metadata": {
        "id": "lCRAWhOMR4aQ"
      },
      "outputs": [],
      "source": [
        "beth= pd.read_csv('/content/beth.csv')"
      ]
    },
    {
      "cell_type": "code",
      "execution_count": null,
      "metadata": {
        "id": "k3c23O56SDdu"
      },
      "outputs": [],
      "source": [
        "seed = 120\n",
        "test_size = 0.3\n",
        "X_train, X_test = train_test_split(beth, test_size=test_size, random_state=seed)\n",
        "\n",
        "exp_name = setup(data = X_train,  target = 'sus')\n",
        "knn = create_model('knn')\n",
        "\n",
        "pred_unseen = predict_model(knn, data = X_test)"
      ]
    },
    {
      "cell_type": "markdown",
      "metadata": {
        "id": "DDwmVq5fZ7-a"
      },
      "source": [
        "##UNSW"
      ]
    },
    {
      "cell_type": "code",
      "execution_count": null,
      "metadata": {
        "id": "HjWtAJbHZ7Cv"
      },
      "outputs": [],
      "source": [
        "beth= pd.read_csv('/content/UNSW.csv')"
      ]
    },
    {
      "cell_type": "code",
      "execution_count": null,
      "metadata": {
        "id": "pat5pFm5aDPD"
      },
      "outputs": [],
      "source": [
        "seed = 120\n",
        "test_size = 0.3\n",
        "X_train, X_test = train_test_split(beth, test_size=test_size, random_state=seed)\n",
        "\n",
        "exp_name = setup(data = X_train,  target = 'label')\n",
        "knn = create_model('knn')\n",
        "\n",
        "pred_unseen = predict_model(knn, data = X_test)"
      ]
    },
    {
      "cell_type": "markdown",
      "metadata": {
        "id": "gUAISU_4q-WD"
      },
      "source": [
        "##Deep Models"
      ]
    },
    {
      "cell_type": "code",
      "execution_count": null,
      "metadata": {
        "id": "otY87do3rBB7"
      },
      "outputs": [],
      "source": [
        "##dataset_name,df,name_target, n,contamination,number_of_unique,percentage_values\n",
        "dataset_name = 'credit_card_fraud'\n",
        "name_target = 'binary_target'\n",
        "n = 50\n",
        "EPOCH = 2\n",
        "results_deepmodels = deep_model(dataset_name,df,name_target,n,EPOCH)"
      ]
    },
    {
      "cell_type": "code",
      "execution_count": null,
      "metadata": {
        "id": "xbCUwV6ZASz0"
      },
      "outputs": [],
      "source": [
        "results_deepmodels"
      ]
    },
    {
      "cell_type": "code",
      "execution_count": null,
      "metadata": {
        "id": "bhsoY0qXMQxH"
      },
      "outputs": [],
      "source": []
    },
    {
      "cell_type": "markdown",
      "metadata": {
        "id": "VDVqRQvKa11X"
      },
      "source": [
        "##SUOD"
      ]
    },
    {
      "cell_type": "code",
      "execution_count": null,
      "metadata": {
        "id": "WOPpn9S2bJTH"
      },
      "outputs": [],
      "source": [
        "import pandas as pd \n",
        "from sklearn.model_selection import train_test_split \n",
        "\n",
        "df= pd.read_csv('/content/pen_global.csv')"
      ]
    },
    {
      "cell_type": "code",
      "execution_count": null,
      "metadata": {
        "id": "0B30N3hwbu5L"
      },
      "outputs": [],
      "source": [
        "seed = 120\n",
        "test_size = 0.3\n",
        "\n",
        "dff = df.drop(['binary_target'], axis=1)\n",
        "\n",
        "X_train, X_test, y_train, y_test = train_test_split(dff,df[\"binary_target\"], test_size=test_size, random_state=seed)\n",
        "\n",
        "contamination=.1"
      ]
    },
    {
      "cell_type": "code",
      "execution_count": null,
      "metadata": {
        "id": "M34oio2-a5Bt"
      },
      "outputs": [],
      "source": [
        "from pyod.models.suod import SUOD\n",
        "from pyod.models.lof import LOF\n",
        "from pyod.models.hbos import HBOS\n",
        "from pyod.models.knn import KNN\n",
        "from pyod.models.pca import PCA\n",
        "from pyod.models.ocsvm import OCSVM\n",
        "\n",
        "\n",
        "base_estimators = [\n",
        "    LOF(n_neighbors=5, contamination=contamination),\n",
        "    LOF(n_neighbors=15, contamination=contamination),\n",
        "    LOF(n_neighbors=25, contamination=contamination),\n",
        "    HBOS(contamination=contamination),\n",
        "    PCA(contamination=contamination),\n",
        "    OCSVM(contamination=contamination),\n",
        "    KNN(n_neighbors=5, contamination=contamination),\n",
        "    KNN(n_neighbors=15, contamination=contamination),\n",
        "    KNN(n_neighbors=25, contamination=contamination)]\n",
        "\n",
        "# initialize a SUOD model with all features turned on\n",
        "model = SUOD(base_estimators=base_estimators, n_jobs=1,  # number of workers\n",
        "             rp_flag_global=True,  # global flag for random projection\n",
        "             bps_flag=True,  # global flag for balanced parallel scheduling\n",
        "             approx_flag_global=False,  # global flag for model approximation\n",
        "             contamination=contamination)\n",
        "\n",
        "model.fit(X_train)  # fit all models with X\n",
        "# model.approximate(X_train)  # conduct model approximation if it is enabled\n",
        "y_test_pred = model.predict(X_test)  # predict labels\n",
        "y_test_scores = model.decision_function(X_test)  # predict scores\n",
        "predicted_probs = model.predict_proba(X_test)  # predict outlying probability"
      ]
    },
    {
      "cell_type": "code",
      "execution_count": null,
      "metadata": {
        "id": "Ab7pr5YWcokm"
      },
      "outputs": [],
      "source": [
        "y_train_pred = model.labels_  # binary labels (0: inliers, 1: outliers)\n",
        "y_train_scores = model.decision_scores_  # raw outlier scores"
      ]
    },
    {
      "cell_type": "code",
      "execution_count": null,
      "metadata": {
        "id": "HcKUeAKTct3F"
      },
      "outputs": [],
      "source": [
        "from pyod.utils.data import evaluate_print\n",
        "from pyod.utils.example import visualize\n",
        "\n",
        "clf_name=\"SUOD\"\n",
        "evaluate_print(clf_name, y_train, y_train_scores)\n",
        "print(\"\\nOn Test Data:\")\n",
        "evaluate_print(clf_name, y_test, y_test_scores)\n",
        "\n",
        "\n"
      ]
    }
  ],
  "metadata": {
    "colab": {
      "collapsed_sections": [
        "bpWhQI-InW_E",
        "C-IJPiRwsTf3",
        "lDKnR1t-oFcK",
        "4J7eCttUoH7B",
        "1L9ggY_coKT2",
        "BBr5SlXA0bya"
      ],
      "name": "Test_11.ipynb",
      "private_outputs": true,
      "provenance": []
    },
    "gpuClass": "standard",
    "kernelspec": {
      "display_name": "Python 3",
      "name": "python3"
    },
    "language_info": {
      "name": "python"
    }
  },
  "nbformat": 4,
  "nbformat_minor": 0
}
